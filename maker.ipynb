{
 "cells": [
  {
   "cell_type": "code",
   "execution_count": 1,
   "id": "e1b8ec57",
   "metadata": {},
   "outputs": [],
   "source": [
    "import pandas as pd\n",
    "import math"
   ]
  },
  {
   "cell_type": "code",
   "execution_count": 2,
   "id": "b34d3b41",
   "metadata": {},
   "outputs": [],
   "source": [
    "class PickListMaker:\n",
    "    \n",
    "    def __init__(self, filenames, solution_moles, solution_volume, \\\n",
    "                 buffer_moles, scaffold=\"M13mp18\", ratio=\"10:1\"):\n",
    "        self.scaffold_molarity = {\"M13mp18\": 0.21e-12/1e-6}\n",
    "        self.strands_df = self.generates_dataframes(filenames)\n",
    "        self.solution_moles = solution_moles\n",
    "        self.solution_volume = solution_volume\n",
    "        self.buffer_moles = buffer_moles\n",
    "        self.scaffold = scaffold\n",
    "        self.ratio = float(ratio.split(\":\")[0])\n",
    "        self.picklist_df = self.generate_picklist(self.strands_df)\n",
    "\n",
    "    def generates_dataframes(self, filenames):\n",
    "        strands_dfs = []\n",
    "        for filename in filenames:\n",
    "            file_extn = filename.split(\".\")[-1]\n",
    "            if file_extn == \"xlsx\": \n",
    "                strands_dfs.append(pd.read_excel(filename))\n",
    "            elif file_extn == \"csv\":\n",
    "                strands_dfs.append(pd.read_csv(filename))\n",
    "        return strands_dfs\n",
    "\n",
    "    def generate_picklist(self, all_staples):\n",
    "        source_plate_name = []\n",
    "        source_plate_type = []\n",
    "        source_well_positions = []\n",
    "        sample_comments = []\n",
    "        destination_plate_name = []\n",
    "        destination_wells = []\n",
    "        transfer_volumes = []\n",
    "        scaffold_transfer_volume = (self.solution_moles * self.solution_volume) / self.scaffold_molarity[self.scaffold]\n",
    "        staple_concentrations = [staples_group[\"Measured Concentration µM \"].mean() for staples_group in all_staples]\n",
    "        staples_num = sum([len(staples_group) for staples_group in all_staples])\n",
    "        staple_concentrations_avg = math.floor(sum(staple_concentrations) / len(staple_concentrations))*1e-6\n",
    "        staple_transfer_volume = (self.ratio * \n",
    "                                  self.solution_moles * self.solution_volume) / staple_concentrations_avg\n",
    "        staple_transfer_volume = int(round(staple_transfer_volume*1e+9, 0)) # in nanoliters\n",
    "        dna_volume = scaffold_transfer_volume + staples_num * staple_transfer_volume*1e-9\n",
    "        buffer_volume = self.solution_volume - dna_volume\n",
    "        magnesium_volume = self.solution_volume * self.buffer_moles\n",
    "        print(\"Average Staple Concetration is: {:.1f}µl with transfer volume {:.1f}.\".format(round(staple_concentrations_avg*1e+6, 0), staple_transfer_volume))\n",
    "        print(\"Total DNA volume is {:.2f}µl and buffer volume is {:.2f}µl.\".format(dna_volume*1e+6, buffer_volume*1e+6))\n",
    "        print(\"Magnesium volume is {:.2f}µl. This will be placed in the last available well.\".format(magnesium_volume*1e+6))\n",
    "        for idx, staple_pkg in enumerate(all_staples):\n",
    "            for item, row in staple_pkg.iterrows():\n",
    "                source_plate_name.append(f\"Source[{idx+1}]\")\n",
    "                source_plate_type.append(\"384PP_AQ_BP\")\n",
    "                last_well_position = row[\"Well Position\"]\n",
    "                source_well_positions.append(last_well_position)\n",
    "                sample_comments.append(row[\"Sequence\"])\n",
    "                destination_plate_name.append(\"Destination[1]\")\n",
    "                destination_wells.append(\"I10\")\n",
    "                transfer_volumes.append(staple_transfer_volume)\n",
    "                \n",
    "        source_plate_name.append(\"Source[3]\")\n",
    "        source_plate_type.append(\"384PP_AQ_BP\")\n",
    "        magnesium_well_position = last_well_position\n",
    "        \n",
    "        if int(magnesium_well_position[1:]) > 24:\n",
    "            letter_ord = (ord(s.upper())+1 - 65) % 26 + 65\n",
    "            if letter_ord > 80:\n",
    "                print(\"Ran out of well to place buffer, please pipet manually.\")\n",
    "            else:\n",
    "                magnesium_well_position[0] = chr(letter_ord)\n",
    "        else:\n",
    "            magnesium_well_position = magnesium_well_position[0] + str(int(magnesium_well_position[1:]) + 1).zfill(2)\n",
    "                                            \n",
    "            \n",
    "        if magnesium_well_position != last_well_position:\n",
    "            source_well_positions.append(magnesium_well_position)\n",
    "            sample_comments.append(\"Mg\")\n",
    "            destination_plate_name.append(\"Destination[1]\")\n",
    "            destination_wells.append(\"I10\")\n",
    "            transfer_volumes.append(magnesium_volume*1e+9)\n",
    "            \n",
    "        echo_df = pd.DataFrame({\"Source Plate Name\": source_plate_name, \"Source Plate Type\": source_plate_type, \\\n",
    "                           \"Source Well\": source_well_positions, \"Sample Comments\": sample_comments, \\\n",
    "                           \"Destination Plate Name\": destination_plate_name, \"Destination Well\": destination_wells, \\\n",
    "                           \"Transfer Volume\": transfer_volumes})\n",
    "        echo_df[\"Transfer Volume\"] = echo_df[\"Transfer Volume\"].astype('int')\n",
    "        echo_df = echo_df.set_index(\"Source Plate Name\")\n",
    "        return echo_df"
   ]
  },
  {
   "cell_type": "code",
   "execution_count": 3,
   "id": "282471ec",
   "metadata": {},
   "outputs": [
    {
     "name": "stdout",
     "output_type": "stream",
     "text": [
      "Average Staple Concetration is: 201.0µl with transfer volume 25.0.\n",
      "Total DNA volume is 8.23µl and buffer volume is 41.77µl.\n",
      "Magnesium volume is 0.50µl. This will be placed in the last available well.\n"
     ]
    }
   ],
   "source": [
    "picklist = PickListMaker([\"~/Downloads/samson_plates.csv\", \"~/Downloads/Plate Specs.xlsx\"], \\\n",
    "                        10e-09, 50e-06, 10e-3)"
   ]
  },
  {
   "cell_type": "code",
   "execution_count": null,
   "id": "30eb14bf",
   "metadata": {},
   "outputs": [],
   "source": [
    "picklist.picklist_df"
   ]
  },
  {
   "cell_type": "code",
   "execution_count": null,
   "id": "c6a1c5bb",
   "metadata": {},
   "outputs": [],
   "source": [
    "\"10:1\".split(\":\")"
   ]
  }
 ],
 "metadata": {
  "kernelspec": {
   "display_name": "Python 3 (ipykernel)",
   "language": "python",
   "name": "python3"
  },
  "language_info": {
   "codemirror_mode": {
    "name": "ipython",
    "version": 3
   },
   "file_extension": ".py",
   "mimetype": "text/x-python",
   "name": "python",
   "nbconvert_exporter": "python",
   "pygments_lexer": "ipython3",
   "version": "3.10.6"
  }
 },
 "nbformat": 4,
 "nbformat_minor": 5
}
